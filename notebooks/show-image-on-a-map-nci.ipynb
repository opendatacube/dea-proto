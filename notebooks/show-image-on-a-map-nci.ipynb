{
 "cells": [
  {
   "cell_type": "markdown",
   "metadata": {},
   "source": [
    "# Introduction\n",
    "\n",
    "This notebook demonstrates plotting an image on a map.\n",
    "\n",
    "1. Find some datasets to load\n",
    "2. Load pixel data in EPSG:3857 projection, same as used by most web maps\n",
    "3. Display datasets footptints on a map\n",
    "4. Display image loaded from these datasets on a map\n",
    "\n",
    "### NCI Environment Setup\n",
    "\n",
    "```bash\n",
    "module load dea/20190524\n",
    "pip install --user odc_ui\n",
    "```"
   ]
  },
  {
   "cell_type": "code",
   "execution_count": null,
   "metadata": {},
   "outputs": [],
   "source": [
    "from IPython.display import display\n",
    "import ipyleaflet as L\n",
    "from ipywidgets import widgets as w\n",
    "import numpy as np\n",
    "\n",
    "from datacube import Datacube\n",
    "\n",
    "from odc.ui import show_datasets, mk_image_overlay, with_ui_cbk"
   ]
  },
  {
   "cell_type": "markdown",
   "metadata": {},
   "source": [
    "## Find Datasets\n",
    "\n",
    "In this example we are using Sentinel 2A ARD product."
   ]
  },
  {
   "cell_type": "code",
   "execution_count": null,
   "metadata": {},
   "outputs": [],
   "source": [
    "product='s2a_ard_granule'\n",
    "RGB=('nbar_red', 'nbar_green', 'nbar_blue')\n",
    "\n",
    "dc = Datacube()\n",
    "qq = dict(lat=(-34, -31), \n",
    "          lon=(137, 138.5),\n",
    "          time='2019-04-10')\n",
    "\n",
    "dss = dc.find_datasets(product=product, **qq)"
   ]
  },
  {
   "cell_type": "markdown",
   "metadata": {},
   "source": [
    "## Load Red/Green/Blue bands\n",
    "\n",
    "We use 1/20 of the native resolution."
   ]
  },
  {
   "cell_type": "code",
   "execution_count": null,
   "metadata": {},
   "outputs": [],
   "source": [
    "xx = dc.load(product=dss[0].type.name,\n",
    "        datasets=dss,\n",
    "        output_crs='EPSG:3857',  # This is what Leaflet uses by default\n",
    "        measurements=RGB,\n",
    "        group_by='solar_day',\n",
    "        resolution=(-200, 200),\n",
    "        progress_cbk=with_ui_cbk())\n",
    "xx"
   ]
  },
  {
   "cell_type": "markdown",
   "metadata": {},
   "source": [
    "### Create Leaflet Map with dataset footprints"
   ]
  },
  {
   "cell_type": "code",
   "execution_count": null,
   "metadata": {},
   "outputs": [],
   "source": [
    "m = show_datasets(dss,\n",
    "                  style={'opacity': 0.3, 'fillOpacity': 0},\n",
    "                  width='600px', \n",
    "                  height='600px', \n",
    "                  scroll_wheel_zoom=True)"
   ]
  },
  {
   "cell_type": "markdown",
   "metadata": {},
   "source": [
    "### Create Leaflet Image Layer\n",
    "\n",
    "1. Convert xx to an RGBA image\n",
    "2. Encode as PNG data\n",
    "3. Render PNG data to \"data uri\"\n",
    "4. Compute image bounds\n",
    "5. Construct ImageLayer with uri from step 3 and bounds from step 4\n",
    "\n",
    "JPEG compression can also be used (e.g `fmt=\"jpeg\"`), useful for larger images to reduce notebook size in bytes (use `quality=40` to reduce size further), downside is no opacity support unlike PNG. "
   ]
  },
  {
   "cell_type": "code",
   "execution_count": null,
   "metadata": {},
   "outputs": [],
   "source": [
    "img_layer = mk_image_overlay(xx, clamp=3000, fmt='png')\n",
    "m.add_layer(img_layer)"
   ]
  },
  {
   "cell_type": "markdown",
   "metadata": {},
   "source": [
    "### Add Opacity Control\n",
    "\n",
    "- Add Vertical Slider to the map\n",
    "- Dragging slider down lowers opacity of the image layer\n",
    "- Use of `jslink` from `ipywidgets` ensures that this interactive behaviour will work even on nbviewer"
   ]
  },
  {
   "cell_type": "code",
   "execution_count": null,
   "metadata": {},
   "outputs": [],
   "source": [
    "slider = w.FloatSlider(min=0, max=1, value=1,        # Opacity is valid in [0,1] range\n",
    "                       orientation='vertical',       # Vertical slider is what we want\n",
    "                       readout=False,                # no need to show exact value\n",
    "                       layout=w.Layout(width='2em')) # Fine tune display layout, make it thinner\n",
    "\n",
    "# Connect slider value to opacity property of the Image Layer\n",
    "w.jslink((slider, 'value'),         \n",
    "         (img_layer, 'opacity') )\n",
    "m.add_control(L.WidgetControl(widget=slider))"
   ]
  },
  {
   "cell_type": "markdown",
   "metadata": {},
   "source": [
    "### Finally display the map"
   ]
  },
  {
   "cell_type": "code",
   "execution_count": null,
   "metadata": {},
   "outputs": [],
   "source": [
    "display(m)"
   ]
  },
  {
   "cell_type": "markdown",
   "metadata": {},
   "source": [
    "### Sharing Notebooks Online\n",
    "\n",
    "Unlike notebooks with `matplotlib` figures, saving notebook with Maps after running it is not enough to have results displayed when sharing notebooks online. You also need to save \"Widget State\" as a separate step, and you need to make sure that \"Widget State\" is saved only once within the notebook. There are some unexpected behaviours one have to work around. At the time of writing this only works in `jupyter notebook` not `jupyter lab`.\n",
    "\n",
    "A robust algorithm for sharing notebooks with widget state is as following:\n",
    "\n",
    "- Make sure there is no state/output in the notebook\n",
    "    1. Open notebook in `jupyter notebook` not `lab`\n",
    "    2. Run Menu: `Kernel > Restart and Clear Output`\n",
    "    3. Run Menu: `Widgets > Clear Notebook Widget State`\n",
    "    4. Save notebook\n",
    "    5. Run Menu: `File > Close and halt`\n",
    "    6. Verify from filesystem that notebook size is small\n",
    "- Starting from clean notebook do\n",
    "    1. Run Menu: `Cell > Run All`\n",
    "    2. Run Menu: `Widgets > Save Notebook Widget State`\n",
    "    3. Save notebook\n",
    "    4. Run Menu: `File > Close and halt`\n",
    "    \n",
    "Following procedure above will ensure that widget state is stored in the notebook, and also that only relevant widget state is stored. If you re-run any cells and then save widget state you might end up with stale widget state present in the notebook document as well, that state won't be displayed but will significantly increase your notebook on-disk size, preventing tools like nbviewer from rendering it. The important thing to realise is that `clear widget state` only removes it from the notebook file, not from your browser, so next time you run `save widget state` stale state will re-appear on disk. To make sure that stale `widget state` is properly gone you have to reload the notebook in your browser after clearing it."
   ]
  },
  {
   "cell_type": "markdown",
   "metadata": {},
   "source": [
    "------------------------------------------------"
   ]
  }
 ],
 "metadata": {
  "kernelspec": {
   "display_name": "Python 3",
   "language": "python",
   "name": "python3"
  },
  "language_info": {
   "codemirror_mode": {
    "name": "ipython",
    "version": 3
   },
   "file_extension": ".py",
   "mimetype": "text/x-python",
   "name": "python",
   "nbconvert_exporter": "python",
   "pygments_lexer": "ipython3",
   "version": "3.6.7"
  }
 },
 "nbformat": 4,
 "nbformat_minor": 2
}
