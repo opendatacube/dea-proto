{
 "cells": [
  {
   "cell_type": "code",
   "execution_count": null,
   "metadata": {},
   "outputs": [],
   "source": [
    "from odc.aws import s3_client\n",
    "from odc.aws.inventory import list_inventory"
   ]
  },
  {
   "cell_type": "code",
   "execution_count": null,
   "metadata": {},
   "outputs": [],
   "source": [
    "manifest = 's3://dea-public-data-inventory/dea-public-data/dea-public-data-csv-inventory/'\n",
    "manifest += '2018-10-13T08-00Z/manifest.json' ## force for now, because of dev account permissions"
   ]
  },
  {
   "cell_type": "code",
   "execution_count": null,
   "metadata": {},
   "outputs": [],
   "source": [
    "s3 = s3_client()\n",
    "\n",
    "full_inventory = list_inventory(manifest, s3=s3)"
   ]
  },
  {
   "cell_type": "code",
   "execution_count": null,
   "metadata": {},
   "outputs": [],
   "source": [
    "%%time\n",
    "total_sz, n = 0,0\n",
    "\n",
    "for i in full_inventory:\n",
    "    n += 1\n",
    "    total_sz += int(i.Size)\n",
    "    if (n%100_000) == 0:\n",
    "        print('.', end='', flush=True)"
   ]
  },
  {
   "cell_type": "code",
   "execution_count": null,
   "metadata": {},
   "outputs": [],
   "source": [
    "print('Found {:,d} objects, total sz: {:,.1f} GiB'.format(n, total_sz/(1<<30)))"
   ]
  }
 ],
 "metadata": {
  "kernelspec": {
   "display_name": "Python 3",
   "language": "python",
   "name": "python3"
  },
  "language_info": {
   "codemirror_mode": {
    "name": "ipython",
    "version": 3
   },
   "file_extension": ".py",
   "mimetype": "text/x-python",
   "name": "python",
   "nbconvert_exporter": "python",
   "pygments_lexer": "ipython3",
   "version": "3.6.6"
  }
 },
 "nbformat": 4,
 "nbformat_minor": 2
}
